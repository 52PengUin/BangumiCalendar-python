{
 "cells": [
  {
   "cell_type": "code",
   "execution_count": 1,
   "metadata": {
    "collapsed": true
   },
   "outputs": [],
   "source": [
    "import pandas as pd\n",
    "\n",
    "data = pd.read_excel(\"/Users/siyixiong/PycharmProjects/BangumiCalendar-python/data/xf.hmacg.cn/2022年10月新番表v3.20 byHazx.xlsx\")\n"
   ]
  },
  {
   "cell_type": "code",
   "execution_count": 2,
   "outputs": [
    {
     "data": {
      "text/plain": "     Unnamed: 0                    番名  \\\n0           NaN                   NaN   \n1           NaN                   NaN   \n2           NaN                   NaN   \n3           NaN                   NaN   \n4           NaN                   NaN   \n..          ...                   ...   \n101         NaN     点击跳转2022年10月新番简介表   \n102         NaN                   NaN   \n103         NaN                   NaN   \n104         NaN  bilibili(港澳台)本季度番剧列表   \n105         NaN                   NaN   \n\n                                    Unnamed: 2                         周更时间  \\\n0                                 新番表 by Hazx.  2022年10月 (秋季) 新番表 by Hazx.    \n1                                 新番表 by Hazx.                          NaN   \n2                              彼得·格里尔的贤者时间 第二季                           周一   \n3                                   豆吉豆子的家里蹲日常                           周一   \n4                                    致不灭的你 第二季                           周一   \n..                                         ...                          ...   \n101                                        NaN                          NaN   \n102                                        NaN                          NaN   \n103                                        NaN                          NaN   \n104                                        NaN                          NaN   \n105  https://t.bilibili.com/711280325645303841                          NaN   \n\n    Unnamed: 4      播放平台 Unnamed: 6 Unnamed: 7 Unnamed: 8        独播     首播  \\\n0          NaN       NaN        NaN        NaN        NaN       NaN    NaN   \n1          NaN       NaN        NaN        NaN        NaN       NaN    NaN   \n2        00:30       NaN        NaN        NaN        NaN       NaN  10.10   \n3        10:45       NaN        NaN        NaN        NaN       NaN   10.3   \n4        18:00  bilibili        NaN        NaN        NaN  bilibili  10.24   \n..         ...       ...        ...        ...        ...       ...    ...   \n101        NaN       NaN        NaN        NaN        NaN       NaN    NaN   \n102        NaN       NaN        NaN        NaN        NaN       NaN    NaN   \n103        NaN       NaN        NaN        NaN        NaN       NaN    NaN   \n104        NaN       NaN        NaN        NaN        NaN       NaN    NaN   \n105        NaN       NaN        NaN        NaN        NaN       NaN    NaN   \n\n      集数   特殊                    TAGS  \n0    NaN  NaN    2022.10 v3.20（11.5）   \n1    NaN  NaN                     NaN  \n2     12  多版本       奇幻 / 搞笑 / 后宫 / 涩涩  \n3     48  泡面番            日常 / 搞笑 / 萌宠  \n4     20  NaN  奇幻 / 冒险 / 成长 / 感情 / 旅程  \n..   ...  ...                     ...  \n101  NaN  NaN                     NaN  \n102  NaN  NaN                     NaN  \n103  NaN  NaN                     NaN  \n104  NaN  NaN                     NaN  \n105  NaN  NaN                     NaN  \n\n[106 rows x 14 columns]",
      "text/html": "<div>\n<style scoped>\n    .dataframe tbody tr th:only-of-type {\n        vertical-align: middle;\n    }\n\n    .dataframe tbody tr th {\n        vertical-align: top;\n    }\n\n    .dataframe thead th {\n        text-align: right;\n    }\n</style>\n<table border=\"1\" class=\"dataframe\">\n  <thead>\n    <tr style=\"text-align: right;\">\n      <th></th>\n      <th>Unnamed: 0</th>\n      <th>番名</th>\n      <th>Unnamed: 2</th>\n      <th>周更时间</th>\n      <th>Unnamed: 4</th>\n      <th>播放平台</th>\n      <th>Unnamed: 6</th>\n      <th>Unnamed: 7</th>\n      <th>Unnamed: 8</th>\n      <th>独播</th>\n      <th>首播</th>\n      <th>集数</th>\n      <th>特殊</th>\n      <th>TAGS</th>\n    </tr>\n  </thead>\n  <tbody>\n    <tr>\n      <th>0</th>\n      <td>NaN</td>\n      <td>NaN</td>\n      <td>新番表 by Hazx.</td>\n      <td>2022年10月 (秋季) 新番表 by Hazx.</td>\n      <td>NaN</td>\n      <td>NaN</td>\n      <td>NaN</td>\n      <td>NaN</td>\n      <td>NaN</td>\n      <td>NaN</td>\n      <td>NaN</td>\n      <td>NaN</td>\n      <td>NaN</td>\n      <td>2022.10 v3.20（11.5）</td>\n    </tr>\n    <tr>\n      <th>1</th>\n      <td>NaN</td>\n      <td>NaN</td>\n      <td>新番表 by Hazx.</td>\n      <td>NaN</td>\n      <td>NaN</td>\n      <td>NaN</td>\n      <td>NaN</td>\n      <td>NaN</td>\n      <td>NaN</td>\n      <td>NaN</td>\n      <td>NaN</td>\n      <td>NaN</td>\n      <td>NaN</td>\n      <td>NaN</td>\n    </tr>\n    <tr>\n      <th>2</th>\n      <td>NaN</td>\n      <td>NaN</td>\n      <td>彼得·格里尔的贤者时间 第二季</td>\n      <td>周一</td>\n      <td>00:30</td>\n      <td>NaN</td>\n      <td>NaN</td>\n      <td>NaN</td>\n      <td>NaN</td>\n      <td>NaN</td>\n      <td>10.10</td>\n      <td>12</td>\n      <td>多版本</td>\n      <td>奇幻 / 搞笑 / 后宫 / 涩涩</td>\n    </tr>\n    <tr>\n      <th>3</th>\n      <td>NaN</td>\n      <td>NaN</td>\n      <td>豆吉豆子的家里蹲日常</td>\n      <td>周一</td>\n      <td>10:45</td>\n      <td>NaN</td>\n      <td>NaN</td>\n      <td>NaN</td>\n      <td>NaN</td>\n      <td>NaN</td>\n      <td>10.3</td>\n      <td>48</td>\n      <td>泡面番</td>\n      <td>日常 / 搞笑 / 萌宠</td>\n    </tr>\n    <tr>\n      <th>4</th>\n      <td>NaN</td>\n      <td>NaN</td>\n      <td>致不灭的你 第二季</td>\n      <td>周一</td>\n      <td>18:00</td>\n      <td>bilibili</td>\n      <td>NaN</td>\n      <td>NaN</td>\n      <td>NaN</td>\n      <td>bilibili</td>\n      <td>10.24</td>\n      <td>20</td>\n      <td>NaN</td>\n      <td>奇幻 / 冒险 / 成长 / 感情 / 旅程</td>\n    </tr>\n    <tr>\n      <th>...</th>\n      <td>...</td>\n      <td>...</td>\n      <td>...</td>\n      <td>...</td>\n      <td>...</td>\n      <td>...</td>\n      <td>...</td>\n      <td>...</td>\n      <td>...</td>\n      <td>...</td>\n      <td>...</td>\n      <td>...</td>\n      <td>...</td>\n      <td>...</td>\n    </tr>\n    <tr>\n      <th>101</th>\n      <td>NaN</td>\n      <td>点击跳转2022年10月新番简介表</td>\n      <td>NaN</td>\n      <td>NaN</td>\n      <td>NaN</td>\n      <td>NaN</td>\n      <td>NaN</td>\n      <td>NaN</td>\n      <td>NaN</td>\n      <td>NaN</td>\n      <td>NaN</td>\n      <td>NaN</td>\n      <td>NaN</td>\n      <td>NaN</td>\n    </tr>\n    <tr>\n      <th>102</th>\n      <td>NaN</td>\n      <td>NaN</td>\n      <td>NaN</td>\n      <td>NaN</td>\n      <td>NaN</td>\n      <td>NaN</td>\n      <td>NaN</td>\n      <td>NaN</td>\n      <td>NaN</td>\n      <td>NaN</td>\n      <td>NaN</td>\n      <td>NaN</td>\n      <td>NaN</td>\n      <td>NaN</td>\n    </tr>\n    <tr>\n      <th>103</th>\n      <td>NaN</td>\n      <td>NaN</td>\n      <td>NaN</td>\n      <td>NaN</td>\n      <td>NaN</td>\n      <td>NaN</td>\n      <td>NaN</td>\n      <td>NaN</td>\n      <td>NaN</td>\n      <td>NaN</td>\n      <td>NaN</td>\n      <td>NaN</td>\n      <td>NaN</td>\n      <td>NaN</td>\n    </tr>\n    <tr>\n      <th>104</th>\n      <td>NaN</td>\n      <td>bilibili(港澳台)本季度番剧列表</td>\n      <td>NaN</td>\n      <td>NaN</td>\n      <td>NaN</td>\n      <td>NaN</td>\n      <td>NaN</td>\n      <td>NaN</td>\n      <td>NaN</td>\n      <td>NaN</td>\n      <td>NaN</td>\n      <td>NaN</td>\n      <td>NaN</td>\n      <td>NaN</td>\n    </tr>\n    <tr>\n      <th>105</th>\n      <td>NaN</td>\n      <td>NaN</td>\n      <td>https://t.bilibili.com/711280325645303841</td>\n      <td>NaN</td>\n      <td>NaN</td>\n      <td>NaN</td>\n      <td>NaN</td>\n      <td>NaN</td>\n      <td>NaN</td>\n      <td>NaN</td>\n      <td>NaN</td>\n      <td>NaN</td>\n      <td>NaN</td>\n      <td>NaN</td>\n    </tr>\n  </tbody>\n</table>\n<p>106 rows × 14 columns</p>\n</div>"
     },
     "execution_count": 2,
     "metadata": {},
     "output_type": "execute_result"
    }
   ],
   "source": [
    "data\n"
   ],
   "metadata": {
    "collapsed": false
   }
  },
  {
   "cell_type": "code",
   "execution_count": 3,
   "outputs": [
    {
     "data": {
      "text/plain": "RangeIndex(start=0, stop=106, step=1)"
     },
     "execution_count": 3,
     "metadata": {},
     "output_type": "execute_result"
    }
   ],
   "source": [
    "data.index"
   ],
   "metadata": {
    "collapsed": false
   }
  },
  {
   "cell_type": "code",
   "execution_count": 4,
   "outputs": [
    {
     "data": {
      "text/plain": "     Unnamed: 0                    番名  \\\n1           NaN                   NaN   \n2           NaN                   NaN   \n3           NaN                   NaN   \n4           NaN                   NaN   \n5           NaN                   NaN   \n..          ...                   ...   \n101         NaN     点击跳转2022年10月新番简介表   \n102         NaN                   NaN   \n103         NaN                   NaN   \n104         NaN  bilibili(港澳台)本季度番剧列表   \n105         NaN                   NaN   \n\n                                    Unnamed: 2 周更时间 Unnamed: 4      播放平台  \\\n1                                 新番表 by Hazx.  NaN        NaN       NaN   \n2                              彼得·格里尔的贤者时间 第二季   周一      00:30       NaN   \n3                                   豆吉豆子的家里蹲日常   周一      10:45       NaN   \n4                                    致不灭的你 第二季   周一      18:00  bilibili   \n5                                     飙速宅男 第五季   周一      19:00  bilibili   \n..                                         ...  ...        ...       ...   \n101                                        NaN  NaN        NaN       NaN   \n102                                        NaN  NaN        NaN       NaN   \n103                                        NaN  NaN        NaN       NaN   \n104                                        NaN  NaN        NaN       NaN   \n105  https://t.bilibili.com/711280325645303841  NaN        NaN       NaN   \n\n    Unnamed: 6 Unnamed: 7 Unnamed: 8        独播     首播   集数   特殊  \\\n1          NaN        NaN        NaN       NaN    NaN  NaN  NaN   \n2          NaN        NaN        NaN       NaN  10.10   12  多版本   \n3          NaN        NaN        NaN       NaN   10.3   48  泡面番   \n4          NaN        NaN        NaN  bilibili  10.24   20  NaN   \n5          NaN        NaN        NaN       NaN  10.10   25  NaN   \n..         ...        ...        ...       ...    ...  ...  ...   \n101        NaN        NaN        NaN       NaN    NaN  NaN  NaN   \n102        NaN        NaN        NaN       NaN    NaN  NaN  NaN   \n103        NaN        NaN        NaN       NaN    NaN  NaN  NaN   \n104        NaN        NaN        NaN       NaN    NaN  NaN  NaN   \n105        NaN        NaN        NaN       NaN    NaN  NaN  NaN   \n\n                       TAGS  \n1                       NaN  \n2         奇幻 / 搞笑 / 后宫 / 涩涩  \n3              日常 / 搞笑 / 萌宠  \n4    奇幻 / 冒险 / 成长 / 感情 / 旅程  \n5        运动 / 自行车 / 热血 / 竞技  \n..                      ...  \n101                     NaN  \n102                     NaN  \n103                     NaN  \n104                     NaN  \n105                     NaN  \n\n[105 rows x 14 columns]",
      "text/html": "<div>\n<style scoped>\n    .dataframe tbody tr th:only-of-type {\n        vertical-align: middle;\n    }\n\n    .dataframe tbody tr th {\n        vertical-align: top;\n    }\n\n    .dataframe thead th {\n        text-align: right;\n    }\n</style>\n<table border=\"1\" class=\"dataframe\">\n  <thead>\n    <tr style=\"text-align: right;\">\n      <th></th>\n      <th>Unnamed: 0</th>\n      <th>番名</th>\n      <th>Unnamed: 2</th>\n      <th>周更时间</th>\n      <th>Unnamed: 4</th>\n      <th>播放平台</th>\n      <th>Unnamed: 6</th>\n      <th>Unnamed: 7</th>\n      <th>Unnamed: 8</th>\n      <th>独播</th>\n      <th>首播</th>\n      <th>集数</th>\n      <th>特殊</th>\n      <th>TAGS</th>\n    </tr>\n  </thead>\n  <tbody>\n    <tr>\n      <th>1</th>\n      <td>NaN</td>\n      <td>NaN</td>\n      <td>新番表 by Hazx.</td>\n      <td>NaN</td>\n      <td>NaN</td>\n      <td>NaN</td>\n      <td>NaN</td>\n      <td>NaN</td>\n      <td>NaN</td>\n      <td>NaN</td>\n      <td>NaN</td>\n      <td>NaN</td>\n      <td>NaN</td>\n      <td>NaN</td>\n    </tr>\n    <tr>\n      <th>2</th>\n      <td>NaN</td>\n      <td>NaN</td>\n      <td>彼得·格里尔的贤者时间 第二季</td>\n      <td>周一</td>\n      <td>00:30</td>\n      <td>NaN</td>\n      <td>NaN</td>\n      <td>NaN</td>\n      <td>NaN</td>\n      <td>NaN</td>\n      <td>10.10</td>\n      <td>12</td>\n      <td>多版本</td>\n      <td>奇幻 / 搞笑 / 后宫 / 涩涩</td>\n    </tr>\n    <tr>\n      <th>3</th>\n      <td>NaN</td>\n      <td>NaN</td>\n      <td>豆吉豆子的家里蹲日常</td>\n      <td>周一</td>\n      <td>10:45</td>\n      <td>NaN</td>\n      <td>NaN</td>\n      <td>NaN</td>\n      <td>NaN</td>\n      <td>NaN</td>\n      <td>10.3</td>\n      <td>48</td>\n      <td>泡面番</td>\n      <td>日常 / 搞笑 / 萌宠</td>\n    </tr>\n    <tr>\n      <th>4</th>\n      <td>NaN</td>\n      <td>NaN</td>\n      <td>致不灭的你 第二季</td>\n      <td>周一</td>\n      <td>18:00</td>\n      <td>bilibili</td>\n      <td>NaN</td>\n      <td>NaN</td>\n      <td>NaN</td>\n      <td>bilibili</td>\n      <td>10.24</td>\n      <td>20</td>\n      <td>NaN</td>\n      <td>奇幻 / 冒险 / 成长 / 感情 / 旅程</td>\n    </tr>\n    <tr>\n      <th>5</th>\n      <td>NaN</td>\n      <td>NaN</td>\n      <td>飙速宅男 第五季</td>\n      <td>周一</td>\n      <td>19:00</td>\n      <td>bilibili</td>\n      <td>NaN</td>\n      <td>NaN</td>\n      <td>NaN</td>\n      <td>NaN</td>\n      <td>10.10</td>\n      <td>25</td>\n      <td>NaN</td>\n      <td>运动 / 自行车 / 热血 / 竞技</td>\n    </tr>\n    <tr>\n      <th>...</th>\n      <td>...</td>\n      <td>...</td>\n      <td>...</td>\n      <td>...</td>\n      <td>...</td>\n      <td>...</td>\n      <td>...</td>\n      <td>...</td>\n      <td>...</td>\n      <td>...</td>\n      <td>...</td>\n      <td>...</td>\n      <td>...</td>\n      <td>...</td>\n    </tr>\n    <tr>\n      <th>101</th>\n      <td>NaN</td>\n      <td>点击跳转2022年10月新番简介表</td>\n      <td>NaN</td>\n      <td>NaN</td>\n      <td>NaN</td>\n      <td>NaN</td>\n      <td>NaN</td>\n      <td>NaN</td>\n      <td>NaN</td>\n      <td>NaN</td>\n      <td>NaN</td>\n      <td>NaN</td>\n      <td>NaN</td>\n      <td>NaN</td>\n    </tr>\n    <tr>\n      <th>102</th>\n      <td>NaN</td>\n      <td>NaN</td>\n      <td>NaN</td>\n      <td>NaN</td>\n      <td>NaN</td>\n      <td>NaN</td>\n      <td>NaN</td>\n      <td>NaN</td>\n      <td>NaN</td>\n      <td>NaN</td>\n      <td>NaN</td>\n      <td>NaN</td>\n      <td>NaN</td>\n      <td>NaN</td>\n    </tr>\n    <tr>\n      <th>103</th>\n      <td>NaN</td>\n      <td>NaN</td>\n      <td>NaN</td>\n      <td>NaN</td>\n      <td>NaN</td>\n      <td>NaN</td>\n      <td>NaN</td>\n      <td>NaN</td>\n      <td>NaN</td>\n      <td>NaN</td>\n      <td>NaN</td>\n      <td>NaN</td>\n      <td>NaN</td>\n      <td>NaN</td>\n    </tr>\n    <tr>\n      <th>104</th>\n      <td>NaN</td>\n      <td>bilibili(港澳台)本季度番剧列表</td>\n      <td>NaN</td>\n      <td>NaN</td>\n      <td>NaN</td>\n      <td>NaN</td>\n      <td>NaN</td>\n      <td>NaN</td>\n      <td>NaN</td>\n      <td>NaN</td>\n      <td>NaN</td>\n      <td>NaN</td>\n      <td>NaN</td>\n      <td>NaN</td>\n    </tr>\n    <tr>\n      <th>105</th>\n      <td>NaN</td>\n      <td>NaN</td>\n      <td>https://t.bilibili.com/711280325645303841</td>\n      <td>NaN</td>\n      <td>NaN</td>\n      <td>NaN</td>\n      <td>NaN</td>\n      <td>NaN</td>\n      <td>NaN</td>\n      <td>NaN</td>\n      <td>NaN</td>\n      <td>NaN</td>\n      <td>NaN</td>\n      <td>NaN</td>\n    </tr>\n  </tbody>\n</table>\n<p>105 rows × 14 columns</p>\n</div>"
     },
     "execution_count": 4,
     "metadata": {},
     "output_type": "execute_result"
    }
   ],
   "source": [
    "data.drop(0)"
   ],
   "metadata": {
    "collapsed": false
   }
  },
  {
   "cell_type": "code",
   "execution_count": 5,
   "outputs": [
    {
     "data": {
      "text/plain": "     Unnamed: 0                    番名  \\\n1           NaN                   NaN   \n2           NaN                   NaN   \n3           NaN                   NaN   \n4           NaN                   NaN   \n5           NaN                   NaN   \n..          ...                   ...   \n101         NaN     点击跳转2022年10月新番简介表   \n102         NaN                   NaN   \n103         NaN                   NaN   \n104         NaN  bilibili(港澳台)本季度番剧列表   \n105         NaN                   NaN   \n\n                                    Unnamed: 2 周更时间 Unnamed: 4      播放平台  \\\n1                                 新番表 by Hazx.  NaN        NaN       NaN   \n2                              彼得·格里尔的贤者时间 第二季   周一      00:30       NaN   \n3                                   豆吉豆子的家里蹲日常   周一      10:45       NaN   \n4                                    致不灭的你 第二季   周一      18:00  bilibili   \n5                                     飙速宅男 第五季   周一      19:00  bilibili   \n..                                         ...  ...        ...       ...   \n101                                        NaN  NaN        NaN       NaN   \n102                                        NaN  NaN        NaN       NaN   \n103                                        NaN  NaN        NaN       NaN   \n104                                        NaN  NaN        NaN       NaN   \n105  https://t.bilibili.com/711280325645303841  NaN        NaN       NaN   \n\n    Unnamed: 6 Unnamed: 7 Unnamed: 8        独播     首播   集数   特殊  \\\n1          NaN        NaN        NaN       NaN    NaN  NaN  NaN   \n2          NaN        NaN        NaN       NaN  10.10   12  多版本   \n3          NaN        NaN        NaN       NaN   10.3   48  泡面番   \n4          NaN        NaN        NaN  bilibili  10.24   20  NaN   \n5          NaN        NaN        NaN       NaN  10.10   25  NaN   \n..         ...        ...        ...       ...    ...  ...  ...   \n101        NaN        NaN        NaN       NaN    NaN  NaN  NaN   \n102        NaN        NaN        NaN       NaN    NaN  NaN  NaN   \n103        NaN        NaN        NaN       NaN    NaN  NaN  NaN   \n104        NaN        NaN        NaN       NaN    NaN  NaN  NaN   \n105        NaN        NaN        NaN       NaN    NaN  NaN  NaN   \n\n                       TAGS  \n1                       NaN  \n2         奇幻 / 搞笑 / 后宫 / 涩涩  \n3              日常 / 搞笑 / 萌宠  \n4    奇幻 / 冒险 / 成长 / 感情 / 旅程  \n5        运动 / 自行车 / 热血 / 竞技  \n..                      ...  \n101                     NaN  \n102                     NaN  \n103                     NaN  \n104                     NaN  \n105                     NaN  \n\n[105 rows x 14 columns]",
      "text/html": "<div>\n<style scoped>\n    .dataframe tbody tr th:only-of-type {\n        vertical-align: middle;\n    }\n\n    .dataframe tbody tr th {\n        vertical-align: top;\n    }\n\n    .dataframe thead th {\n        text-align: right;\n    }\n</style>\n<table border=\"1\" class=\"dataframe\">\n  <thead>\n    <tr style=\"text-align: right;\">\n      <th></th>\n      <th>Unnamed: 0</th>\n      <th>番名</th>\n      <th>Unnamed: 2</th>\n      <th>周更时间</th>\n      <th>Unnamed: 4</th>\n      <th>播放平台</th>\n      <th>Unnamed: 6</th>\n      <th>Unnamed: 7</th>\n      <th>Unnamed: 8</th>\n      <th>独播</th>\n      <th>首播</th>\n      <th>集数</th>\n      <th>特殊</th>\n      <th>TAGS</th>\n    </tr>\n  </thead>\n  <tbody>\n    <tr>\n      <th>1</th>\n      <td>NaN</td>\n      <td>NaN</td>\n      <td>新番表 by Hazx.</td>\n      <td>NaN</td>\n      <td>NaN</td>\n      <td>NaN</td>\n      <td>NaN</td>\n      <td>NaN</td>\n      <td>NaN</td>\n      <td>NaN</td>\n      <td>NaN</td>\n      <td>NaN</td>\n      <td>NaN</td>\n      <td>NaN</td>\n    </tr>\n    <tr>\n      <th>2</th>\n      <td>NaN</td>\n      <td>NaN</td>\n      <td>彼得·格里尔的贤者时间 第二季</td>\n      <td>周一</td>\n      <td>00:30</td>\n      <td>NaN</td>\n      <td>NaN</td>\n      <td>NaN</td>\n      <td>NaN</td>\n      <td>NaN</td>\n      <td>10.10</td>\n      <td>12</td>\n      <td>多版本</td>\n      <td>奇幻 / 搞笑 / 后宫 / 涩涩</td>\n    </tr>\n    <tr>\n      <th>3</th>\n      <td>NaN</td>\n      <td>NaN</td>\n      <td>豆吉豆子的家里蹲日常</td>\n      <td>周一</td>\n      <td>10:45</td>\n      <td>NaN</td>\n      <td>NaN</td>\n      <td>NaN</td>\n      <td>NaN</td>\n      <td>NaN</td>\n      <td>10.3</td>\n      <td>48</td>\n      <td>泡面番</td>\n      <td>日常 / 搞笑 / 萌宠</td>\n    </tr>\n    <tr>\n      <th>4</th>\n      <td>NaN</td>\n      <td>NaN</td>\n      <td>致不灭的你 第二季</td>\n      <td>周一</td>\n      <td>18:00</td>\n      <td>bilibili</td>\n      <td>NaN</td>\n      <td>NaN</td>\n      <td>NaN</td>\n      <td>bilibili</td>\n      <td>10.24</td>\n      <td>20</td>\n      <td>NaN</td>\n      <td>奇幻 / 冒险 / 成长 / 感情 / 旅程</td>\n    </tr>\n    <tr>\n      <th>5</th>\n      <td>NaN</td>\n      <td>NaN</td>\n      <td>飙速宅男 第五季</td>\n      <td>周一</td>\n      <td>19:00</td>\n      <td>bilibili</td>\n      <td>NaN</td>\n      <td>NaN</td>\n      <td>NaN</td>\n      <td>NaN</td>\n      <td>10.10</td>\n      <td>25</td>\n      <td>NaN</td>\n      <td>运动 / 自行车 / 热血 / 竞技</td>\n    </tr>\n    <tr>\n      <th>...</th>\n      <td>...</td>\n      <td>...</td>\n      <td>...</td>\n      <td>...</td>\n      <td>...</td>\n      <td>...</td>\n      <td>...</td>\n      <td>...</td>\n      <td>...</td>\n      <td>...</td>\n      <td>...</td>\n      <td>...</td>\n      <td>...</td>\n      <td>...</td>\n    </tr>\n    <tr>\n      <th>101</th>\n      <td>NaN</td>\n      <td>点击跳转2022年10月新番简介表</td>\n      <td>NaN</td>\n      <td>NaN</td>\n      <td>NaN</td>\n      <td>NaN</td>\n      <td>NaN</td>\n      <td>NaN</td>\n      <td>NaN</td>\n      <td>NaN</td>\n      <td>NaN</td>\n      <td>NaN</td>\n      <td>NaN</td>\n      <td>NaN</td>\n    </tr>\n    <tr>\n      <th>102</th>\n      <td>NaN</td>\n      <td>NaN</td>\n      <td>NaN</td>\n      <td>NaN</td>\n      <td>NaN</td>\n      <td>NaN</td>\n      <td>NaN</td>\n      <td>NaN</td>\n      <td>NaN</td>\n      <td>NaN</td>\n      <td>NaN</td>\n      <td>NaN</td>\n      <td>NaN</td>\n      <td>NaN</td>\n    </tr>\n    <tr>\n      <th>103</th>\n      <td>NaN</td>\n      <td>NaN</td>\n      <td>NaN</td>\n      <td>NaN</td>\n      <td>NaN</td>\n      <td>NaN</td>\n      <td>NaN</td>\n      <td>NaN</td>\n      <td>NaN</td>\n      <td>NaN</td>\n      <td>NaN</td>\n      <td>NaN</td>\n      <td>NaN</td>\n      <td>NaN</td>\n    </tr>\n    <tr>\n      <th>104</th>\n      <td>NaN</td>\n      <td>bilibili(港澳台)本季度番剧列表</td>\n      <td>NaN</td>\n      <td>NaN</td>\n      <td>NaN</td>\n      <td>NaN</td>\n      <td>NaN</td>\n      <td>NaN</td>\n      <td>NaN</td>\n      <td>NaN</td>\n      <td>NaN</td>\n      <td>NaN</td>\n      <td>NaN</td>\n      <td>NaN</td>\n    </tr>\n    <tr>\n      <th>105</th>\n      <td>NaN</td>\n      <td>NaN</td>\n      <td>https://t.bilibili.com/711280325645303841</td>\n      <td>NaN</td>\n      <td>NaN</td>\n      <td>NaN</td>\n      <td>NaN</td>\n      <td>NaN</td>\n      <td>NaN</td>\n      <td>NaN</td>\n      <td>NaN</td>\n      <td>NaN</td>\n      <td>NaN</td>\n      <td>NaN</td>\n    </tr>\n  </tbody>\n</table>\n<p>105 rows × 14 columns</p>\n</div>"
     },
     "execution_count": 5,
     "metadata": {},
     "output_type": "execute_result"
    }
   ],
   "source": [
    "data.drop(0\n",
    "          )"
   ],
   "metadata": {
    "collapsed": false
   }
  },
  {
   "cell_type": "code",
   "execution_count": 6,
   "outputs": [
    {
     "data": {
      "text/plain": "     Unnamed: 0                    番名  \\\n0           NaN                   NaN   \n2           NaN                   NaN   \n3           NaN                   NaN   \n4           NaN                   NaN   \n5           NaN                   NaN   \n..          ...                   ...   \n101         NaN     点击跳转2022年10月新番简介表   \n102         NaN                   NaN   \n103         NaN                   NaN   \n104         NaN  bilibili(港澳台)本季度番剧列表   \n105         NaN                   NaN   \n\n                                    Unnamed: 2                         周更时间  \\\n0                                 新番表 by Hazx.  2022年10月 (秋季) 新番表 by Hazx.    \n2                              彼得·格里尔的贤者时间 第二季                           周一   \n3                                   豆吉豆子的家里蹲日常                           周一   \n4                                    致不灭的你 第二季                           周一   \n5                                     飙速宅男 第五季                           周一   \n..                                         ...                          ...   \n101                                        NaN                          NaN   \n102                                        NaN                          NaN   \n103                                        NaN                          NaN   \n104                                        NaN                          NaN   \n105  https://t.bilibili.com/711280325645303841                          NaN   \n\n    Unnamed: 4      播放平台 Unnamed: 6 Unnamed: 7 Unnamed: 8        独播     首播  \\\n0          NaN       NaN        NaN        NaN        NaN       NaN    NaN   \n2        00:30       NaN        NaN        NaN        NaN       NaN  10.10   \n3        10:45       NaN        NaN        NaN        NaN       NaN   10.3   \n4        18:00  bilibili        NaN        NaN        NaN  bilibili  10.24   \n5        19:00  bilibili        NaN        NaN        NaN       NaN  10.10   \n..         ...       ...        ...        ...        ...       ...    ...   \n101        NaN       NaN        NaN        NaN        NaN       NaN    NaN   \n102        NaN       NaN        NaN        NaN        NaN       NaN    NaN   \n103        NaN       NaN        NaN        NaN        NaN       NaN    NaN   \n104        NaN       NaN        NaN        NaN        NaN       NaN    NaN   \n105        NaN       NaN        NaN        NaN        NaN       NaN    NaN   \n\n      集数   特殊                    TAGS  \n0    NaN  NaN    2022.10 v3.20（11.5）   \n2     12  多版本       奇幻 / 搞笑 / 后宫 / 涩涩  \n3     48  泡面番            日常 / 搞笑 / 萌宠  \n4     20  NaN  奇幻 / 冒险 / 成长 / 感情 / 旅程  \n5     25  NaN      运动 / 自行车 / 热血 / 竞技  \n..   ...  ...                     ...  \n101  NaN  NaN                     NaN  \n102  NaN  NaN                     NaN  \n103  NaN  NaN                     NaN  \n104  NaN  NaN                     NaN  \n105  NaN  NaN                     NaN  \n\n[105 rows x 14 columns]",
      "text/html": "<div>\n<style scoped>\n    .dataframe tbody tr th:only-of-type {\n        vertical-align: middle;\n    }\n\n    .dataframe tbody tr th {\n        vertical-align: top;\n    }\n\n    .dataframe thead th {\n        text-align: right;\n    }\n</style>\n<table border=\"1\" class=\"dataframe\">\n  <thead>\n    <tr style=\"text-align: right;\">\n      <th></th>\n      <th>Unnamed: 0</th>\n      <th>番名</th>\n      <th>Unnamed: 2</th>\n      <th>周更时间</th>\n      <th>Unnamed: 4</th>\n      <th>播放平台</th>\n      <th>Unnamed: 6</th>\n      <th>Unnamed: 7</th>\n      <th>Unnamed: 8</th>\n      <th>独播</th>\n      <th>首播</th>\n      <th>集数</th>\n      <th>特殊</th>\n      <th>TAGS</th>\n    </tr>\n  </thead>\n  <tbody>\n    <tr>\n      <th>0</th>\n      <td>NaN</td>\n      <td>NaN</td>\n      <td>新番表 by Hazx.</td>\n      <td>2022年10月 (秋季) 新番表 by Hazx.</td>\n      <td>NaN</td>\n      <td>NaN</td>\n      <td>NaN</td>\n      <td>NaN</td>\n      <td>NaN</td>\n      <td>NaN</td>\n      <td>NaN</td>\n      <td>NaN</td>\n      <td>NaN</td>\n      <td>2022.10 v3.20（11.5）</td>\n    </tr>\n    <tr>\n      <th>2</th>\n      <td>NaN</td>\n      <td>NaN</td>\n      <td>彼得·格里尔的贤者时间 第二季</td>\n      <td>周一</td>\n      <td>00:30</td>\n      <td>NaN</td>\n      <td>NaN</td>\n      <td>NaN</td>\n      <td>NaN</td>\n      <td>NaN</td>\n      <td>10.10</td>\n      <td>12</td>\n      <td>多版本</td>\n      <td>奇幻 / 搞笑 / 后宫 / 涩涩</td>\n    </tr>\n    <tr>\n      <th>3</th>\n      <td>NaN</td>\n      <td>NaN</td>\n      <td>豆吉豆子的家里蹲日常</td>\n      <td>周一</td>\n      <td>10:45</td>\n      <td>NaN</td>\n      <td>NaN</td>\n      <td>NaN</td>\n      <td>NaN</td>\n      <td>NaN</td>\n      <td>10.3</td>\n      <td>48</td>\n      <td>泡面番</td>\n      <td>日常 / 搞笑 / 萌宠</td>\n    </tr>\n    <tr>\n      <th>4</th>\n      <td>NaN</td>\n      <td>NaN</td>\n      <td>致不灭的你 第二季</td>\n      <td>周一</td>\n      <td>18:00</td>\n      <td>bilibili</td>\n      <td>NaN</td>\n      <td>NaN</td>\n      <td>NaN</td>\n      <td>bilibili</td>\n      <td>10.24</td>\n      <td>20</td>\n      <td>NaN</td>\n      <td>奇幻 / 冒险 / 成长 / 感情 / 旅程</td>\n    </tr>\n    <tr>\n      <th>5</th>\n      <td>NaN</td>\n      <td>NaN</td>\n      <td>飙速宅男 第五季</td>\n      <td>周一</td>\n      <td>19:00</td>\n      <td>bilibili</td>\n      <td>NaN</td>\n      <td>NaN</td>\n      <td>NaN</td>\n      <td>NaN</td>\n      <td>10.10</td>\n      <td>25</td>\n      <td>NaN</td>\n      <td>运动 / 自行车 / 热血 / 竞技</td>\n    </tr>\n    <tr>\n      <th>...</th>\n      <td>...</td>\n      <td>...</td>\n      <td>...</td>\n      <td>...</td>\n      <td>...</td>\n      <td>...</td>\n      <td>...</td>\n      <td>...</td>\n      <td>...</td>\n      <td>...</td>\n      <td>...</td>\n      <td>...</td>\n      <td>...</td>\n      <td>...</td>\n    </tr>\n    <tr>\n      <th>101</th>\n      <td>NaN</td>\n      <td>点击跳转2022年10月新番简介表</td>\n      <td>NaN</td>\n      <td>NaN</td>\n      <td>NaN</td>\n      <td>NaN</td>\n      <td>NaN</td>\n      <td>NaN</td>\n      <td>NaN</td>\n      <td>NaN</td>\n      <td>NaN</td>\n      <td>NaN</td>\n      <td>NaN</td>\n      <td>NaN</td>\n    </tr>\n    <tr>\n      <th>102</th>\n      <td>NaN</td>\n      <td>NaN</td>\n      <td>NaN</td>\n      <td>NaN</td>\n      <td>NaN</td>\n      <td>NaN</td>\n      <td>NaN</td>\n      <td>NaN</td>\n      <td>NaN</td>\n      <td>NaN</td>\n      <td>NaN</td>\n      <td>NaN</td>\n      <td>NaN</td>\n      <td>NaN</td>\n    </tr>\n    <tr>\n      <th>103</th>\n      <td>NaN</td>\n      <td>NaN</td>\n      <td>NaN</td>\n      <td>NaN</td>\n      <td>NaN</td>\n      <td>NaN</td>\n      <td>NaN</td>\n      <td>NaN</td>\n      <td>NaN</td>\n      <td>NaN</td>\n      <td>NaN</td>\n      <td>NaN</td>\n      <td>NaN</td>\n      <td>NaN</td>\n    </tr>\n    <tr>\n      <th>104</th>\n      <td>NaN</td>\n      <td>bilibili(港澳台)本季度番剧列表</td>\n      <td>NaN</td>\n      <td>NaN</td>\n      <td>NaN</td>\n      <td>NaN</td>\n      <td>NaN</td>\n      <td>NaN</td>\n      <td>NaN</td>\n      <td>NaN</td>\n      <td>NaN</td>\n      <td>NaN</td>\n      <td>NaN</td>\n      <td>NaN</td>\n    </tr>\n    <tr>\n      <th>105</th>\n      <td>NaN</td>\n      <td>NaN</td>\n      <td>https://t.bilibili.com/711280325645303841</td>\n      <td>NaN</td>\n      <td>NaN</td>\n      <td>NaN</td>\n      <td>NaN</td>\n      <td>NaN</td>\n      <td>NaN</td>\n      <td>NaN</td>\n      <td>NaN</td>\n      <td>NaN</td>\n      <td>NaN</td>\n      <td>NaN</td>\n    </tr>\n  </tbody>\n</table>\n<p>105 rows × 14 columns</p>\n</div>"
     },
     "execution_count": 6,
     "metadata": {},
     "output_type": "execute_result"
    }
   ],
   "source": [
    "data.drop(1)"
   ],
   "metadata": {
    "collapsed": false
   }
  },
  {
   "cell_type": "code",
   "execution_count": 7,
   "outputs": [
    {
     "data": {
      "text/plain": "0      2022年10月 (秋季) 新番表 by Hazx. \n1                              NaN\n2                               周一\n3                               周一\n4                               周一\n                  ...             \n101                            NaN\n102                            NaN\n103                            NaN\n104                            NaN\n105                            NaN\nName: 周更时间, Length: 106, dtype: object"
     },
     "execution_count": 7,
     "metadata": {},
     "output_type": "execute_result"
    }
   ],
   "source": [
    "data.周更时间\n"
   ],
   "metadata": {
    "collapsed": false
   }
  },
  {
   "cell_type": "code",
   "execution_count": null,
   "outputs": [],
   "source": [],
   "metadata": {
    "collapsed": false
   }
  }
 ],
 "metadata": {
  "kernelspec": {
   "display_name": "Python 3",
   "language": "python",
   "name": "python3"
  },
  "language_info": {
   "codemirror_mode": {
    "name": "ipython",
    "version": 2
   },
   "file_extension": ".py",
   "mimetype": "text/x-python",
   "name": "python",
   "nbconvert_exporter": "python",
   "pygments_lexer": "ipython2",
   "version": "2.7.6"
  }
 },
 "nbformat": 4,
 "nbformat_minor": 0
}
